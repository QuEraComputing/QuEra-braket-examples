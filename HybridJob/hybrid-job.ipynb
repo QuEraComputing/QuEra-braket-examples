{
 "cells": [
  {
   "cell_type": "markdown",
   "id": "703f627f-2ca3-4341-8080-eac9544447b9",
   "metadata": {},
   "source": [
    "## Solving the MIS with Bloqade Python and Amazon Braket Hybrid Jobs"
   ]
  },
  {
   "cell_type": "markdown",
   "id": "8933302d-cd1d-4a0e-92ee-9492a18e684d",
   "metadata": {},
   "source": [
    "In this example we pass our parameterized pulse program into a classical optimizer in order to provide classical feedback for the next quantum program to run. The use case we will cover here is a pretty standard problem that maps very neatly onto the AHS architecture implemented with Neutral atoms. Because of the Rydberg blockade effect the ground state of a collection of atoms maps exactly to what is called the Maximum Independent Set (MIS) problem on geometric graphs. The MIS problem is a graph coloring problem where the goal is to find the largest set of nodes in a graph such that no two nodes are connected by an edge. This problem is NP-hard and has many applications in scheduling and resource allocation."
   ]
  },
  {
   "cell_type": "markdown",
   "id": "1419a156-8e5b-43ed-a9a8-bcc779439d7b",
   "metadata": {},
   "source": [
    "We refer the reader to [this](https://github.com/QuEraComputing/QuEra-braket-examples/blob/main/OptimizationTutorial/AWS_optimization_demo.ipynb) Notebook example for a more detailed explanation of the problem and how it maps onto AHS. For this blog post we will focus on the implementation of the hybrid algorithm using Bloqade and Braket Hybrid Jobs. \n",
    "\n",
    "Like most of the Bloqade programs we begin by importing the necessary components to build the program:"
   ]
  },
  {
   "cell_type": "code",
   "execution_count": null,
   "id": "0787bd30-de95-46d3-b33a-21fceed18266",
   "metadata": {},
   "outputs": [],
   "source": [
    "import numpy as np\n",
    "from bloqade import RB_C6, save, start, var\n",
    "from bloqade.atom_arrangement import Square\n",
    "from braket.devices import Devices\n",
    "from braket.aws import AwsDevice"
   ]
  },
  {
   "cell_type": "markdown",
   "id": "6164ddef-4531-4f32-bf36-6fbdd203d1b2",
   "metadata": {},
   "source": [
    "using the `AwsDevice` we can get some information about the capabilities of the device. For the sake of demonstration this example does not submit to quantum hardware immediately (although the option will be presented later). However, it is still useful to know the hardware capabilities in designing future programs. Note that Bloqade uses `rad/us` and `us` for energy and time units respectively while braket uses SI units, e.g. `rad/s` and `s`, hence the conversion of units below. \n"
   ]
  },
  {
   "cell_type": "code",
   "execution_count": null,
   "id": "4ebd2bc7-dfa1-4b4a-a157-46fcb23d818f",
   "metadata": {},
   "outputs": [],
   "source": [
    "## Obtain hardware constraints for the Aquila Quantum Processing Unit (QPU)\n",
    "## via `AwsDevice`\n",
    "device = AwsDevice(Devices.QuEra.Aquila)\n",
    "rydberg_properties = device.properties.paradigm.rydberg.rydbergGlobal\n",
    "\n",
    "## Convert energy units to rad/us and time to us\n",
    "detuning_max = float(rydberg_properties.detuningRange[1]) / 1e6\n",
    "rabi_max = float(rydberg_properties.rabiFrequencyRange[1]) / 1e6\n",
    "total_time = float(rydberg_properties.timeMax) * 1e6"
   ]
  },
  {
   "cell_type": "markdown",
   "id": "bc6bcde7-9596-4bb0-ac62-c72b250d264e",
   "metadata": {},
   "source": [
    "For the particular problem we are studying we need to map the problem graph onto the atom arrangement. For more information we refer the reader to the notebook [example](https://github.com/QuEraComputing/QuEra-braket-examples/blob/main/OptimizationTutorial/AWS_optimization_demo.ipynb). "
   ]
  },
  {
   "cell_type": "code",
   "execution_count": null,
   "id": "f0ca2100-ebbf-4dc5-8c4a-fba53f21c373",
   "metadata": {},
   "outputs": [],
   "source": [
    "## make sure next nearest neighbors are blockaded\n",
    "## unit disk minimum and maximum radii\n",
    "Rmin = np.sqrt(2)  ## minimum unit disk radius\n",
    "Rmax = 2  ## maximum unit disk radius\n",
    "## choose geometric mean of Rmin and Rmax\n",
    "Rudg = np.sqrt(Rmin * Rmax)\n",
    "\n",
    "detuning_end = detuning_max / 4\n",
    "blockade_radius = (RB_C6 / detuning_end) ** (1 / 6)\n",
    "lattice_spacing = blockade_radius / Rudg"
   ]
  },
  {
   "cell_type": "markdown",
   "id": "c394d7c0-6e62-406c-88de-96837306d2c3",
   "metadata": {},
   "source": [
    "Now we can define the program. We will use the `var` function to define the parameters for the program. Also the cost function will involve calculating the final energy of tha atoms which can be obtained from the geometry of the program via the `rydberg_interaction` method."
   ]
  },
  {
   "cell_type": "code",
   "execution_count": null,
   "id": "4d17f2ca-5d52-47d0-a862-b389b092984c",
   "metadata": {},
   "outputs": [],
   "source": [
    "## define the time step for the detuning waveform,\n",
    "## basically the time between allowable changes in detuning\n",
    "dt = 0.4\n",
    "n_steps = int(total_time / dt)\n",
    "## create variables for the allowable changes in detuning.\n",
    "## These variables allow us to parametrize our program and\n",
    "detuning_vars = [var(f\"d{i}\") for i in range(n_steps - 1)]\n",
    "\n",
    "# define the lattice size before defect insertion\n",
    "L = 4\n",
    "# set seed for geometry generation\n",
    "rng = np.random.default_rng(1337)\n",
    "program = (\n",
    "    Square(L, lattice_spacing)\n",
    "    .apply_defect_count(L**2 // 2, rng=rng)\n",
    "    .remove_vacant_sites()\n",
    "    .rydberg.detuning.uniform.piecewise_linear(\n",
    "        n_steps * [dt], [-detuning_end] + detuning_vars + [detuning_end]\n",
    "        # n_steps * [dt] creates [dt, dt, dt]\n",
    "        # [-detuning_end] + detuning_vars + [detuning_end] creates [-detuning_end, d0, d1, ..., dN, detuning_end]\n",
    "    )\n",
    "    .amplitude.uniform.piecewise_linear(\n",
    "        [0.1, total_time - 0.2, 0.1], [0, rabi_max, rabi_max, 0]\n",
    "    )\n",
    ")\n",
    "# get atom register and interaction matrix\n",
    "V_ij = program.parse_register().rydberg_interaction()"
   ]
  },
  {
   "cell_type": "markdown",
   "id": "4ad5271c-2553-45a3-b2c3-278612fa687d",
   "metadata": {},
   "source": [
    "We need to build the infrastructure to do the hybrid job. There are many different tools available in `braket.jobs` that allow you to log the progress of your hybrid algorithm. Here we set up a simple class that wraps the cost function and log the progress of the algorithm. "
   ]
  },
  {
   "cell_type": "code",
   "execution_count": null,
   "id": "c1923749-aa52-4205-ba8b-dd8ab262c53b",
   "metadata": {},
   "outputs": [],
   "source": [
    "from braket.jobs import (\n",
    "    InstanceConfig,\n",
    "    hybrid_job,\n",
    "    save_job_checkpoint,\n",
    ")\n",
    "from braket.jobs.metrics import log_metric\n",
    "from braket.jobs_data import PersistedJobDataFormat\n",
    "from braket.tracking import Tracker\n",
    "\n",
    "\n",
    "# define a wrapper for the cost function for reporting\n",
    "class CostFuncWrapper:\n",
    "    def __init__(self, backend, shots=10, **options):\n",
    "        self.backend = backend\n",
    "        self.options = options\n",
    "        self.iterations = 0\n",
    "        self.shots = shots\n",
    "        self.prev_calls = {}\n",
    "        self.task_tracker = Tracker().start()\n",
    "\n",
    "    @staticmethod\n",
    "    def cost_func(report):\n",
    "        bitstrings = 1 - np.asarray(report.bitstrings(False))\n",
    "        detuning_energies = -detuning_end * bitstrings.sum(axis=-1)\n",
    "        interaction_energies = np.einsum(\n",
    "            \"ij, ...i, ...j-> ...\", V_ij, bitstrings, bitstrings\n",
    "        )\n",
    "\n",
    "        total_energy = detuning_energies + interaction_energies\n",
    "        # minimize the energy mean and standard deviation\n",
    "        return total_energy.mean() + total_energy.std()\n",
    "\n",
    "    def __call__(self, x):\n",
    "        args = tuple(x)\n",
    "\n",
    "        batch_task = self.backend.run(self.shots, args=args, **self.options)\n",
    "        report = batch_task.report()\n",
    "\n",
    "        save(batch_task, f\"my-backend_results-{self.iterations}.json\")\n",
    "\n",
    "        self.prev_calls[args] = report\n",
    "        return self.cost_func(report)\n",
    "\n",
    "    def callback(self, state):\n",
    "        args = tuple(state.x)\n",
    "        self.iterations += 1\n",
    "        bitstrings = 1 - np.asarray(self.prev_calls[args].bitstrings(False))\n",
    "        detuning_energies = -detuning_end * bitstrings.sum(axis=-1)\n",
    "\n",
    "        interaction_energies = np.einsum(\n",
    "            \"ij, ...i, ...j-> ...\", V_ij, bitstrings, bitstrings\n",
    "        )\n",
    "\n",
    "        total_energy = detuning_energies + interaction_energies\n",
    "        mean_energy = total_energy.mean()\n",
    "        std_energy = total_energy.std()\n",
    "\n",
    "        # Log metrics to display in Amazon Braket Console\n",
    "        log_metric(\n",
    "            iteration_number=self.iterations, value=state.fun, metric_name=\"loss\"\n",
    "        )\n",
    "        log_metric(\n",
    "            iteration_number=self.iterations,\n",
    "            value=mean_energy,\n",
    "            metric_name=\"mean energy\",\n",
    "        )\n",
    "        log_metric(\n",
    "            iteration_number=self.iterations,\n",
    "            value=std_energy,\n",
    "            metric_name=\"std energy\",\n",
    "        )\n",
    "\n",
    "        # Also track the quantum task cost for Amazon Braket devices\n",
    "        braket_task_cost = float(\n",
    "            self.task_tracker.qpu_tasks_cost()\n",
    "            + self.task_tracker.simulator_tasks_cost()\n",
    "        )\n",
    "        log_metric(\n",
    "            metric_name=\"braket_cost\",\n",
    "            value=braket_task_cost,\n",
    "            iteration_number=self.iterations,\n",
    "        )\n",
    "\n",
    "        # Save a checkpoint to resume the hybrid job from where you left off\n",
    "        checkpoint_data = {\"i\": self.iterations, \"args\": args}\n",
    "        # this function is from Braket\n",
    "        save_job_checkpoint(\n",
    "            checkpoint_data, data_format=PersistedJobDataFormat.PICKLED_V4\n",
    "        )\n",
    "        # end the job if the std energy is less than 5% of the mean energy\n",
    "        # this indicates that the system is close to the ground state\n",
    "        return abs(std_energy / mean_energy) < 0.05"
   ]
  },
  {
   "cell_type": "markdown",
   "id": "3ccf8b9c-fa2b-4373-b904-0510e93709c1",
   "metadata": {},
   "source": [
    "While this is a lot to take in let us go through some important things. Firstly, you can generate a `Report` object from a Bloqade batch of tasks. This object provides some basic analysis methods common to neutral atom AHS. The one we make the most use of here is the `bitstrings` method which return a list of arrays that contains the shot results after executing the program. It takes a boolean argument that specifies whether or not to return the bitstrings of shots where there were atoms that did not successfully get put into position before the computation was executed. By default this filter is applied, but for this problem we want to include those shots in our analysis hence the `False` argument. \n",
    "\n",
    "Another thing to note is that our cost function not only contains the `mean` energy but also the standard deviation. The reason for this is because we are targeting an eigenstate of the final Hamiltonian which has no energy variance. This is a good way to check if the system is in the ground state. We use the ratio of the standard deviation to the mean energy as a stopping condition for the algorithm.\n",
    "\n",
    "Finally, we have a callback function that is called after each iteration of the optimizer. This is where we can log the progress of the algorithm. We use the `Tracker` object to track the cost of the quantum tasks that are being executed. We also use the `log_metric` function to log the mean and standard deviation of the energy as well as the cost function of the quantum tasks.\n",
    "\n",
    "Now we can define the function that will run the hybrid job. "
   ]
  },
  {
   "cell_type": "markdown",
   "id": "66d70b26-d51d-497f-96fc-d3d92c7a9e04",
   "metadata": {},
   "source": [
    "<div class=\"alert alert-block alert-warning\"> \n",
    "The moment the function below (run_algo) is executed, it will be submitted to Amazon Braket.\n",
    "\n",
    "For the sake of demonstration the quantum `device` it's targeting is set to `None` meaning it will not execute on quantum hardware and will instead just use the associated Amazon EC2 resource. This will still incur a cost, as will submitting to quantum hardware.\n",
    "\n",
    "If you'd like to submit to our quantum machine instead of relying on Bloqade's emulator, just change the `device` and program backend as detailed in the comments.\n",
    "</div>"
   ]
  },
  {
   "cell_type": "code",
   "execution_count": null,
   "id": "718cbed9-0550-4e4d-8d75-05c0784998c0",
   "metadata": {},
   "outputs": [],
   "source": [
    "@hybrid_job(\n",
    "        # set this to `Devices.QuEra.Aquila` if you'd like to run on the actual QPU\n",
    "        device = None,\n",
    "        dependencies=\"requirements.txt\",  # install bloqade and scikit-optimize\n",
    "        instance_config=InstanceConfig(\"ml.m5.large\"),\n",
    ")\n",
    "def run_algo(assigned_program, n_calls=10, n_shots=10):\n",
    "    from skopt import gp_minimize\n",
    "\n",
    "    # Change `assigned_program.bloqade.python()` to `assigned_program.braket.aquila()`\n",
    "    # along with the change in the device arn above to run on *Aquila*\n",
    "    program_with_backend = assigned_program.bloqade.python()\n",
    "    wrapped_cost_func = CostFuncWrapper(program_with_backend, shots=n_shots)\n",
    "\n",
    "    n_params = len(program_with_backend.params.args_list)\n",
    "    bounds = n_params * [(-detuning_max, detuning_max)]\n",
    "\n",
    "    result = gp_minimize(\n",
    "        wrapped_cost_func,\n",
    "        bounds,\n",
    "        callback=wrapped_cost_func.callback,\n",
    "        n_calls=n_calls,\n",
    "    )\n",
    "\n",
    "    detuning_values = {var.name: val for var, val in zip(detuning_vars, result.x)}\n",
    "\n",
    "    return detuning_values"
   ]
  },
  {
   "cell_type": "markdown",
   "id": "07282b4f-fae0-4b56-8837-4470763967f9",
   "metadata": {},
   "source": [
    "We use the `hybrid_job` decorator to define the hybrid job. This decorator takes a `device_arn` argument which is the Amazon Resource Name (ARN) of the device you want to run the hybrid job on. There are some other options associated with the Amazon EC2 instance that is used to run the hybrid job. We will use the `InstanceConfig` object to specify the instance type and number of instances to use. `dependencies` points to a text file that contains the python dependencies needed to run this hybrid job. In this case we need `bloqade` and `scikit-optimize` in this text file. \n",
    "\n",
    "The function `run_algo` that is being decorated generates a backend object from the parametrized program we've created by the Bloqade API and must match the device ARN that is specified in the decorator. `n_calls` is the total number of iterations of the optimizer and `shots` is the number of shots to use for each iteration. `options` is a dictionary of options that are passed to the `run` method of the backend. The return value of the function is the final value of the parameters that were optimized. \n",
    "\n",
    "To run the hybrid job we simply call the `run_algo` function with the assigned program and the device ARN."
   ]
  },
  {
   "cell_type": "code",
   "execution_count": null,
   "id": "b40e656a-46a4-4428-aa4d-7c0e204842df",
   "metadata": {},
   "outputs": [],
   "source": [
    "optimal_params = run_algo(program.args(detuning_vars), n_calls=10, n_shots=10)\n",
    "assigned_program = program.assign(**optimal_params.result())"
   ]
  },
  {
   "cell_type": "markdown",
   "id": "a1c8772d-590f-4efe-8e5b-66fee5add2fd",
   "metadata": {},
   "source": [
    "We will have to wait for the Hybrid Job to finish running but afterwards you can assign fixed values to the program now that we know what they optimally are and remove the need to apply them on the fly as we have before. You can visualize the final waveform with the built-in Bokeh visualiztions Bloqade has with `assigned_program.show()` which should open a window in your browser."
   ]
  }
 ],
 "metadata": {
  "kernelspec": {
   "display_name": "Python 3 (ipykernel)",
   "language": "python",
   "name": "python3"
  },
  "language_info": {
   "codemirror_mode": {
    "name": "ipython",
    "version": 3
   },
   "file_extension": ".py",
   "mimetype": "text/x-python",
   "name": "python",
   "nbconvert_exporter": "python",
   "pygments_lexer": "ipython3",
   "version": "3.10.9"
  }
 },
 "nbformat": 4,
 "nbformat_minor": 5
}
