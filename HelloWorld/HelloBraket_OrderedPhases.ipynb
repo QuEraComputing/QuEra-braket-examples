{
 "cells": [
  {
   "attachments": {},
   "cell_type": "markdown",
   "metadata": {},
   "source": [
    "## Hello Braket!\n",
    "\n",
    "Wondering how to access Aquila? Say hello to Braket! \n",
    "\n",
    "The AWS Braket interface allows you to send tasks from your laptop to quantum processors at QuEra via the AWS cloud infrastructure. This tutorial will give you a first taste of what this workflow looks like. It's simple: Define the arrangement of atoms you want to use and specify your Hamiltonian parameters of choice to govern the behavior of those atoms. Submit the program and analyze the results. \n",
    "\n",
    "Ready to explore what's possible with Aquila? Let's dive straight in!\n"
   ]
  },
  {
   "attachments": {},
   "cell_type": "markdown",
   "metadata": {},
   "source": [
    "### Goal \n",
    "\n",
    "To say hello to the world of neutral atoms, let's investigate one of the central phenomena in quantum many-body physics: the emergence of **ordered phases of matter**. In this tutorial, we'll show how Aquila can prepare the simplest of such ordered phases, namely an antiferromagnetic phase (aka $\\mathbb{Z_2}$ phase) in both one- and two-dimensional arrays of atoms. To make this possible, we will make use of the [Rydberg blockade](https://queracomputing.github.io/Bloqade.jl/dev/tutorials/1.blockade/main/) - the mechanism at the heart of our quantum computing architecture."
   ]
  },
  {
   "attachments": {},
   "cell_type": "markdown",
   "metadata": {},
   "source": [
    "### Register\n",
    "\n",
    "Let's start off with the 1D case.   To achieve our goal, we first need to define our Rydberg-atom quantum computer register. We arrange them in a line with a separation of 6.1μm between each pair of atoms. "
   ]
  },
  {
   "cell_type": "code",
   "execution_count": null,
   "metadata": {},
   "outputs": [],
   "source": [
    "from braket.ahs.atom_arrangement import AtomArrangement\n",
    "import numpy as np\n",
    "from quera_ahs_utils.plotting import show_register\n",
    "import matplotlib.pyplot as plt\n",
    "\n",
    "a = 6.1e-6  # meters\n",
    "N_atoms = 11\n",
    "\n",
    "register = AtomArrangement()\n",
    "for i in range(N_atoms):\n",
    "    register.add([0.0, i*a])\n",
    "\n",
    "fig = show_register(register)\n",
    "plt.show()\n"
   ]
  },
  {
   "attachments": {},
   "cell_type": "markdown",
   "metadata": {},
   "source": [
    "### Hamiltonian\n",
    "\n",
    "The next component we need to specify is the Hamiltonian. It's the energy function that governs the behaviour of our atoms, including their interactions. \n",
    "\n",
    "In the lab, the Hamiltonian is implemented by applying lasers to the atoms. "
   ]
  },
  {
   "cell_type": "code",
   "execution_count": null,
   "metadata": {},
   "outputs": [],
   "source": [
    "from braket.ahs.hamiltonian import Hamiltonian\n",
    "\n",
    "H = Hamiltonian()"
   ]
  },
  {
   "attachments": {},
   "cell_type": "markdown",
   "metadata": {},
   "source": [
    "Specifically, the Hamiltonian governing our system of atoms takes the following form:\n",
    "\n",
    "\\begin{align*}\n",
    "H(t) = \\frac{\\Omega(t)}{2} \\sum_j (e^{i \\phi(t)}|{g_j}\\rangle\\langle{r_j}| +  e^{-i \\phi(t)}|{r_j}\\rangle\\langle{g_j}|) - \\sum_j \\Delta(t)\\hat{n}_j + \\sum_{j<k} V_{jk}\\hat{n}_j\\hat{n}_k,\n",
    "\\end{align*}\n",
    "\n",
    "where $\\Omega$, $\\phi$ and $\\Delta$ denote the Rabi frequency, laser phase, and the detuning of the driving laser field coupling the ground states $|{g_j}\\rangle$ and excited Rydberg state $|{r_j}\\rangle$ of the j-th atom. Our task is to specify these Hamiltonian parameters ($\\Omega$, $\\phi$ and $\\Delta$). Here, they will be time-dependent in order to help us carry out a protocol called adiabiatic state preparation. In case this sounds unfamiliar, feel free to read up on the physics background on our open source platform [Bloqade](https://queracomputing.github.io/Bloqade.jl/dev/tutorials/2.adiabatic/main/).\n",
    "\n",
    "\n",
    "In our current case, we only want to tell the system to activate the set of lasers controlling the Rabi frequency and the global detuning. In particular, we will choose a constant Rabi frequency of $\\Omega=2.5\\times10^6$ rad/s and a linearly increasing detuning from $\\Delta = -9\\times10^6$ rad/s to $\\Delta = 7\\times10^6$ rad/s, together with a total time duration of $t = 4$ μs. The phase parameter will simply be set to zero. The rest of the code ensures that $\\Omega$ and $\\Delta$ are ramped on and off in a way compatible with the experimental setup."
   ]
  },
  {
   "cell_type": "code",
   "execution_count": null,
   "metadata": {},
   "outputs": [],
   "source": [
    "from quera_ahs_utils.plotting import show_global_drive \n",
    "from quera_ahs_utils.drive import get_drive\n",
    "\n",
    "omega_min = 0       \n",
    "omega_max = 2.5e6 * 2 * np.pi\n",
    "detuning_min = -9e6 * 2 * np.pi\n",
    "detuning_max = 7e6 * 2 * np.pi\n",
    "\n",
    "time_max = 4e-6\n",
    "time_ramp = 0.15*time_max\n",
    "\n",
    "time_points = [0, time_ramp, time_max - time_ramp, time_max]\n",
    "omega_values = [omega_min, omega_max, omega_max, omega_min]\n",
    "detuning_values = [detuning_min, detuning_min, detuning_max, detuning_max]\n",
    "phase_values = [0, 0, 0, 0]\n",
    "\n",
    "drive = get_drive(time_points, omega_values, detuning_values, phase_values)\n",
    "H += drive\n",
    "\n",
    "show_global_drive(drive)\n",
    "plt.show()"
   ]
  },
  {
   "attachments": {},
   "cell_type": "markdown",
   "metadata": {},
   "source": [
    "However, that's not the full story. These drive terms alone don't tell us how the atoms interact. But interactions are at the core of many-body quantum physics! That's where the Rydberg blockade comes in. Mathematically, it is described by the term\n",
    "\n",
    "\\begin{align*}\n",
    "H_{interaction} = \\sum_{j<k} V_{jk}\\hat{n}_j\\hat{n}_k\n",
    "\\end{align*}\n",
    "\n",
    "in the Rydberg Hamiltonian. The key idea is that within a certain distance - the so-called blockade radius - only one atom will be excited into an $\\ket{r}$ state. Having more excitations will cost too much energy. This means that the states of two neighboring atoms will depend on each other and exhibit specific patterns which we will plot below. Creating these ordered states is non-trivial. Following the [adiabatic protocol](https://queracomputing.github.io/Bloqade.jl/dev/tutorials/2.adiabatic/main/) mentioned previously is crucial since it allows us to slowly introduce these complex interactions into the system. \n",
    "\n",
    "<div class=\"alert alert-block alert-info\">\n",
    "    <b>Note: </b> In the current version of the AHS module in Braket, this Rydberg interaction term is automatically calculated from the atom positions. Hence, we don't need to worry about specifying it explicitly. Our Hamiltonian is all set!\n",
    "</div>"
   ]
  },
  {
   "attachments": {},
   "cell_type": "markdown",
   "metadata": {},
   "source": [
    "### Defining the program (1D case)\n",
    "\n",
    "Now, we can combine the register and Hamiltonian into a program. In particular, this program falls within the class of Analog Hamiltonian Simulation (AHS). If you're curious about other types of quantum computing, take a look at [gate-based circuits](https://github.com/aws/amazon-braket-examples/blob/main/examples/getting_started/1_Running_quantum_circuits_on_simulators/1_Running_quantum_circuits_on_simulators.ipynb) or tutorials on [quantum annealing](https://github.com/aws/amazon-braket-examples/blob/main/examples/quantum_annealing/Dwave_TravelingSalesmanProblem/Dwave_TravelingSalesmanProblem.ipynb)."
   ]
  },
  {
   "cell_type": "code",
   "execution_count": null,
   "metadata": {},
   "outputs": [],
   "source": [
    "from braket.ahs.analog_hamiltonian_simulation import AnalogHamiltonianSimulation\n",
    "\n",
    "ahs_program = AnalogHamiltonianSimulation(\n",
    "    register=register, \n",
    "    hamiltonian=H\n",
    ")"
   ]
  },
  {
   "attachments": {},
   "cell_type": "markdown",
   "metadata": {},
   "source": [
    "### Simulation on classical hardware\n",
    "\n",
    "Before submitting the task to run on actual quantum hardware, let's first check our program by running a local simulation on one of AWS's classical servers."
   ]
  },
  {
   "cell_type": "code",
   "execution_count": null,
   "metadata": {},
   "outputs": [],
   "source": [
    "from braket.devices import LocalSimulator\n",
    "\n",
    "classical_device = LocalSimulator(\"braket_ahs\")\n",
    "\n",
    "nshots = 1000\n",
    "task = classical_device.run(ahs_program, shots=nshots)\n",
    "\n",
    "# The result can be downloaded directly into an object in the python session:\n",
    "result = task.result()"
   ]
  },
  {
   "attachments": {},
   "cell_type": "markdown",
   "metadata": {},
   "source": [
    "What phase of matter did we create? Let's have a look at the average density of atoms on each site:"
   ]
  },
  {
   "cell_type": "code",
   "execution_count": null,
   "metadata": {},
   "outputs": [],
   "source": [
    "from quera_ahs_utils.analysis import get_avg_density\n",
    "from quera_ahs_utils.plotting import plot_avg_density\n",
    "\n",
    "n_rydberg = get_avg_density(result)\n",
    "fig,ax = plot_avg_density(n_rydberg, register,cmap=plt.cm.Blues)\n",
    "plt.show()"
   ]
  },
  {
   "attachments": {},
   "cell_type": "markdown",
   "metadata": {},
   "source": [
    "Indeed, we already see from this classical simulation that a pattern emerges: The alternating occupation density in the chain of atoms indicates a so-called $\\mathbb{Z_2}$ phase. "
   ]
  },
  {
   "attachments": {},
   "cell_type": "markdown",
   "metadata": {},
   "source": [
    "### Simulation on Aquila\n",
    "And now for the truly exciting part! Let's bring Aquila into the game.\n",
    "<div class=\"alert alert-block alert-info\">\n",
    "    <b>Note: </b> Running this program on the Aquila processor will incur a cost of 0.30 USD for submitting the program and 0.01 USD per shot. For scientific purposes, one would run this notebook with 1000 shots per task. To simply get a feel for the workflow of using Braket, however, we recommend reducing the number of shots. \n",
    "    Furthermore, AWS offers <a href=\"https://aws.amazon.com/braket/pricing/?loc=ft#AWS_Free_Tier\">1 hour of free simulation time</a> per month. Running this notebook with 1000 shots would use xxx of your free computing time.\n",
    "</div>"
   ]
  },
  {
   "cell_type": "code",
   "execution_count": null,
   "metadata": {},
   "outputs": [],
   "source": [
    "from braket.aws import AwsDevice, AwsSession\n",
    "from boto3 import Session\n",
    "\n",
    "boto_session = Session(region_name=\"us-east-1\")\n",
    "aws_session = AwsSession(boto_session)\n",
    "\n",
    "aquila = AwsDevice(\"arn:aws:braket:us-east-1::device/qpu/quera/Aquila\",aws_session)\n",
    "\n",
    "# To make the program compatible with the quantum hardware, we still need to slice it into discrete time steps:\n",
    "discretized_ahs_program = ahs_program.discretize(aquila)\n",
    "\n",
    "task = aquila.run(discretized_ahs_program, shots=nshots)\n",
    "result = task.result()\n",
    "n_rydberg = get_avg_density(result)\n",
    "fig,ax = plot_avg_density(n_rydberg, register,cmap=plt.cm.Blues)\n",
    "plt.show()"
   ]
  },
  {
   "attachments": {},
   "cell_type": "markdown",
   "metadata": {},
   "source": [
    "<img src=\"1D_Aquila.svg\" alt=\"1D_Aquila_Result\" />"
   ]
  },
  {
   "attachments": {},
   "cell_type": "markdown",
   "metadata": {},
   "source": [
    "Success! We can clearly observe an alternating occupation density, i.e. the $\\mathbb{Z}_2$ phase, just as in the previous classical simulation."
   ]
  },
  {
   "attachments": {},
   "cell_type": "markdown",
   "metadata": {},
   "source": [
    "### 2D case\n",
    "\n",
    "Now that we are familiar with the basic workflow, we can follow the same steps to extend our investigation to the 2D case. \n",
    "\n",
    "Let's start off with a simple square lattice with 3x3 atoms. Why? This system is again small enough to first simulate it on classical hardware and thus benchmark the quantum device. "
   ]
  },
  {
   "cell_type": "code",
   "execution_count": null,
   "metadata": {},
   "outputs": [],
   "source": [
    "b = 6.7e-6  # meters\n",
    "N_x = N_y = 3\n",
    "\n",
    "register_2D = AtomArrangement()\n",
    "for i in range(N_x):\n",
    "    for j in range(N_y):\n",
    "        register_2D.add([i*b, j * b])\n",
    "\n",
    "show_register(register_2D)\n",
    "plt.show()"
   ]
  },
  {
   "cell_type": "code",
   "execution_count": null,
   "metadata": {},
   "outputs": [],
   "source": [
    "H_2D = Hamiltonian()\n",
    "\n",
    "omega_min = 0       \n",
    "omega_max = 2.5e6 * 2 * np.pi\n",
    "detuning_min = -8.75e6 * 2 * np.pi\n",
    "detuning_max = 8.75e6 * 2 * np.pi\n",
    "\n",
    "time_max = 3e-6\n",
    "time_ramp = 0.25e-6\n",
    "\n",
    "time_points = [0, time_ramp, time_max - time_ramp, time_max]\n",
    "omega_values = [omega_min, omega_max, omega_max, omega_min]\n",
    "detuning_values = [detuning_min, detuning_min, detuning_max, detuning_max]\n",
    "phase_values = [0, 0, 0, 0]\n",
    "\n",
    "drive_2D = get_drive(time_points, omega_values, detuning_values, phase_values)\n",
    "H_2D += drive_2D"
   ]
  },
  {
   "attachments": {},
   "cell_type": "markdown",
   "metadata": {},
   "source": [
    "Now, we run the simulation on classical hardware: "
   ]
  },
  {
   "cell_type": "code",
   "execution_count": null,
   "metadata": {},
   "outputs": [],
   "source": [
    "ahs_program_2D = AnalogHamiltonianSimulation(\n",
    "    register=register_2D, \n",
    "    hamiltonian=H_2D\n",
    ")\n",
    "\n",
    "result_2D = classical_device.run(ahs_program_2D, shots=nshots).result()\n",
    "\n",
    "f,ax = plot_avg_density(get_avg_density(result_2D), register_2D, cmap=plt.cm.Blues)\n",
    "plt.show()"
   ]
  },
  {
   "attachments": {},
   "cell_type": "markdown",
   "metadata": {},
   "source": [
    "Great! We see a pattern emerging, similar to the $\\mathbb{Z}_2$ phase in the 1D case. In 2D, this pattern is typically referred to as the checkerboard phase.\n",
    "\n",
    "But will we observe the same behavior on Aquila?"
   ]
  },
  {
   "cell_type": "code",
   "execution_count": null,
   "metadata": {},
   "outputs": [],
   "source": [
    "discretized_ahs_program_2D = ahs_program_2D.discretize(aquila)\n",
    "\n",
    "result_2D = aquila.run(discretized_ahs_program_2D, shots=nshots).result()\n",
    "plot_avg_density(get_avg_density(result_2D), register_2D, cmap=plt.cm.Blues);\n",
    "plt.show()"
   ]
  },
  {
   "attachments": {},
   "cell_type": "markdown",
   "metadata": {},
   "source": [
    "<img src=\"2D_Aquila.svg\" alt=\"2D_Aquila_result\"/>"
   ]
  },
  {
   "attachments": {},
   "cell_type": "markdown",
   "metadata": {},
   "source": [
    "### Finale: Moving beyond classical limits\n",
    "\n",
    "So what's the big picture? We've walked through two best practice examples of simulating the order in a quantum many-body system, first on classical hardware and then on an actual quantum device, namely Aquila. \n",
    "\n",
    "But what's the advantage in using Aquila? Well, having gained confidence in Aquila, we can use this quantum device to move into a regime that is not so easy to simulate classically. To give you an impression, let's make one final plot showing the order of an 11x11 square lattice of neutral atoms."
   ]
  },
  {
   "cell_type": "code",
   "execution_count": null,
   "metadata": {},
   "outputs": [],
   "source": [
    "b = 6.7e-6  # meters\n",
    "N_x = N_y = 11\n",
    "\n",
    "register_finale = AtomArrangement()\n",
    "for i in range(N_x):\n",
    "    for j in range(N_y):\n",
    "        register_finale.add([j*b, i * b])"
   ]
  },
  {
   "cell_type": "code",
   "execution_count": null,
   "metadata": {},
   "outputs": [
    {
     "name": "stderr",
     "output_type": "stream",
     "text": [
      "Task exception was never retrieved\n",
      "future: <Task finished name='Task-4' coro=<AwsQuantumTask._wait_for_completion() done, defined at /opt/homebrew/anaconda3/envs/braket-examples-debugging/lib/python3.11/site-packages/braket/aws/aws_quantum_task.py:391> exception=KeyboardInterrupt()>\n",
      "Traceback (most recent call last):\n",
      "  File \"/opt/homebrew/anaconda3/envs/braket-examples-debugging/lib/python3.11/site-packages/IPython/core/interactiveshell.py\", line 3508, in run_code\n",
      "    exec(code_obj, self.user_global_ns, self.user_ns)\n",
      "  File \"/var/folders/md/6z6jl2f13rd8j1_hyp_xwj3w0000gn/T/ipykernel_2325/4153326605.py\", line 3, in <module>\n",
      "    result_2D = aquila.run(discretized_ahs_program_2D, shots=nshots).result()\n",
      "                ^^^^^^^^^^^^^^^^^^^^^^^^^^^^^^^^^^^^^^^^^^^^^^^^^^^^^^^^^^^^^\n",
      "  File \"/opt/homebrew/anaconda3/envs/braket-examples-debugging/lib/python3.11/site-packages/braket/aws/aws_quantum_task.py\", line 350, in result\n",
      "    return async_result.get_loop().run_until_complete(async_result)\n",
      "           ^^^^^^^^^^^^^^^^^^^^^^^^^^^^^^^^^^^^^^^^^^^^^^^^^^^^^^^^\n",
      "  File \"/opt/homebrew/anaconda3/envs/braket-examples-debugging/lib/python3.11/site-packages/nest_asyncio.py\", line 84, in run_until_complete\n",
      "    self._run_once()\n",
      "  File \"/opt/homebrew/anaconda3/envs/braket-examples-debugging/lib/python3.11/site-packages/nest_asyncio.py\", line 120, in _run_once\n",
      "    handle._run()\n",
      "  File \"/opt/homebrew/anaconda3/envs/braket-examples-debugging/lib/python3.11/asyncio/events.py\", line 80, in _run\n",
      "    self._context.run(self._callback, *self._args)\n",
      "  File \"/opt/homebrew/anaconda3/envs/braket-examples-debugging/lib/python3.11/asyncio/tasks.py\", line 350, in __wakeup\n",
      "    self.__step()\n",
      "  File \"/opt/homebrew/anaconda3/envs/braket-examples-debugging/lib/python3.11/site-packages/nest_asyncio.py\", line 196, in step\n",
      "    step_orig(task, exc)\n",
      "  File \"/opt/homebrew/anaconda3/envs/braket-examples-debugging/lib/python3.11/asyncio/tasks.py\", line 267, in __step\n",
      "    result = coro.send(None)\n",
      "             ^^^^^^^^^^^^^^^\n",
      "  File \"/opt/homebrew/anaconda3/envs/braket-examples-debugging/lib/python3.11/site-packages/braket/aws/aws_quantum_task.py\", line 414, in _wait_for_completion\n",
      "    task_status = self._update_status_if_nonterminal()\n",
      "                  ^^^^^^^^^^^^^^^^^^^^^^^^^^^^^^^^^^^^\n",
      "  File \"/opt/homebrew/anaconda3/envs/braket-examples-debugging/lib/python3.11/site-packages/braket/aws/aws_quantum_task.py\", line 321, in _update_status_if_nonterminal\n",
      "    return cached if cached in self.TERMINAL_STATES else self._status(metadata_absent)\n",
      "                                                         ^^^^^^^^^^^^^^^^^^^^^^^^^^^^^\n",
      "  File \"/opt/homebrew/anaconda3/envs/braket-examples-debugging/lib/python3.11/site-packages/braket/aws/aws_quantum_task.py\", line 307, in _status\n",
      "    metadata = self.metadata(use_cached_value)\n",
      "               ^^^^^^^^^^^^^^^^^^^^^^^^^^^^^^^\n",
      "  File \"/opt/homebrew/anaconda3/envs/braket-examples-debugging/lib/python3.11/site-packages/braket/aws/aws_quantum_task.py\", line 285, in metadata\n",
      "    self._metadata = self._aws_session.get_quantum_task(self._arn)\n",
      "                     ^^^^^^^^^^^^^^^^^^^^^^^^^^^^^^^^^^^^^^^^^^^^^\n",
      "  File \"/opt/homebrew/anaconda3/envs/braket-examples-debugging/lib/python3.11/site-packages/backoff/_sync.py\", line 105, in retry\n",
      "    ret = target(*args, **kwargs)\n",
      "          ^^^^^^^^^^^^^^^^^^^^^^^\n",
      "  File \"/opt/homebrew/anaconda3/envs/braket-examples-debugging/lib/python3.11/site-packages/braket/aws/aws_session.py\", line 276, in get_quantum_task\n",
      "    response = self.braket_client.get_quantum_task(quantumTaskArn=arn)\n",
      "               ^^^^^^^^^^^^^^^^^^^^^^^^^^^^^^^^^^^^^^^^^^^^^^^^^^^^^^^\n",
      "  File \"/opt/homebrew/anaconda3/envs/braket-examples-debugging/lib/python3.11/site-packages/botocore/client.py\", line 530, in _api_call\n",
      "    return self._make_api_call(operation_name, kwargs)\n",
      "           ^^^^^^^^^^^^^^^^^^^^^^^^^^^^^^^^^^^^^^^^^^^\n",
      "  File \"/opt/homebrew/anaconda3/envs/braket-examples-debugging/lib/python3.11/site-packages/botocore/client.py\", line 947, in _make_api_call\n",
      "    http, parsed_response = self._make_request(\n",
      "                            ^^^^^^^^^^^^^^^^^^^\n",
      "  File \"/opt/homebrew/anaconda3/envs/braket-examples-debugging/lib/python3.11/site-packages/botocore/client.py\", line 970, in _make_request\n",
      "    return self._endpoint.make_request(operation_model, request_dict)\n",
      "           ^^^^^^^^^^^^^^^^^^^^^^^^^^^^^^^^^^^^^^^^^^^^^^^^^^^^^^^^^^\n",
      "  File \"/opt/homebrew/anaconda3/envs/braket-examples-debugging/lib/python3.11/site-packages/botocore/endpoint.py\", line 119, in make_request\n",
      "    return self._send_request(request_dict, operation_model)\n",
      "           ^^^^^^^^^^^^^^^^^^^^^^^^^^^^^^^^^^^^^^^^^^^^^^^^^\n",
      "  File \"/opt/homebrew/anaconda3/envs/braket-examples-debugging/lib/python3.11/site-packages/botocore/endpoint.py\", line 199, in _send_request\n",
      "    success_response, exception = self._get_response(\n",
      "                                  ^^^^^^^^^^^^^^^^^^^\n",
      "  File \"/opt/homebrew/anaconda3/envs/braket-examples-debugging/lib/python3.11/site-packages/botocore/endpoint.py\", line 241, in _get_response\n",
      "    success_response, exception = self._do_get_response(\n",
      "                                  ^^^^^^^^^^^^^^^^^^^^^^\n",
      "  File \"/opt/homebrew/anaconda3/envs/braket-examples-debugging/lib/python3.11/site-packages/botocore/endpoint.py\", line 281, in _do_get_response\n",
      "    http_response = self._send(request)\n",
      "                    ^^^^^^^^^^^^^^^^^^^\n",
      "  File \"/opt/homebrew/anaconda3/envs/braket-examples-debugging/lib/python3.11/site-packages/botocore/endpoint.py\", line 377, in _send\n",
      "    return self.http_session.send(request)\n",
      "           ^^^^^^^^^^^^^^^^^^^^^^^^^^^^^^^\n",
      "  File \"/opt/homebrew/anaconda3/envs/braket-examples-debugging/lib/python3.11/site-packages/botocore/httpsession.py\", line 465, in send\n",
      "    urllib_response = conn.urlopen(\n",
      "                      ^^^^^^^^^^^^^\n",
      "  File \"/opt/homebrew/anaconda3/envs/braket-examples-debugging/lib/python3.11/site-packages/urllib3/connectionpool.py\", line 703, in urlopen\n",
      "    httplib_response = self._make_request(\n",
      "                       ^^^^^^^^^^^^^^^^^^^\n",
      "  File \"/opt/homebrew/anaconda3/envs/braket-examples-debugging/lib/python3.11/site-packages/urllib3/connectionpool.py\", line 449, in _make_request\n",
      "    six.raise_from(e, None)\n",
      "  File \"<string>\", line 3, in raise_from\n",
      "  File \"/opt/homebrew/anaconda3/envs/braket-examples-debugging/lib/python3.11/site-packages/urllib3/connectionpool.py\", line 444, in _make_request\n",
      "    httplib_response = conn.getresponse()\n",
      "                       ^^^^^^^^^^^^^^^^^^\n",
      "  File \"/opt/homebrew/anaconda3/envs/braket-examples-debugging/lib/python3.11/http/client.py\", line 1375, in getresponse\n",
      "    response.begin()\n",
      "  File \"/opt/homebrew/anaconda3/envs/braket-examples-debugging/lib/python3.11/http/client.py\", line 318, in begin\n",
      "    version, status, reason = self._read_status()\n",
      "                              ^^^^^^^^^^^^^^^^^^^\n",
      "  File \"/opt/homebrew/anaconda3/envs/braket-examples-debugging/lib/python3.11/http/client.py\", line 279, in _read_status\n",
      "    line = str(self.fp.readline(_MAXLINE + 1), \"iso-8859-1\")\n",
      "               ^^^^^^^^^^^^^^^^^^^^^^^^^^^^^^\n",
      "  File \"/opt/homebrew/anaconda3/envs/braket-examples-debugging/lib/python3.11/socket.py\", line 706, in readinto\n",
      "    return self._sock.recv_into(b)\n",
      "           ^^^^^^^^^^^^^^^^^^^^^^^\n",
      "  File \"/opt/homebrew/anaconda3/envs/braket-examples-debugging/lib/python3.11/ssl.py\", line 1278, in recv_into\n",
      "    return self.read(nbytes, buffer)\n",
      "           ^^^^^^^^^^^^^^^^^^^^^^^^^\n",
      "  File \"/opt/homebrew/anaconda3/envs/braket-examples-debugging/lib/python3.11/ssl.py\", line 1134, in read\n",
      "    return self._sslobj.read(len, buffer)\n",
      "           ^^^^^^^^^^^^^^^^^^^^^^^^^^^^^^\n",
      "KeyboardInterrupt\n"
     ]
    }
   ],
   "source": [
    "ahs_program_finale = AnalogHamiltonianSimulation(\n",
    "    register=register_finale, \n",
    "    hamiltonian=H_2D\n",
    ")\n",
    "\n",
    "result_finale = aquila.run(ahs_program_finale.discretize(aquila), shots=nshots).result()\n",
    "\n",
    "plot_avg_density(get_avg_density(result_finale), register_finale, cmap=plt.cm.Blues);\n",
    "plt.show()"
   ]
  },
  {
   "attachments": {},
   "cell_type": "markdown",
   "metadata": {},
   "source": [
    "<img src=\"2D_11x11_Aquila.svg\" alt=\"2D_11x11_Aquila_Result\"/>\n",
    "\n",
    "Indeed, the checkerboard phase clearly emerges. We have successfully created a complex many-body quantum state in which 121 atoms interact in Aquila to create an ordered phase of matter! "
   ]
  },
  {
   "attachments": {},
   "cell_type": "markdown",
   "metadata": {},
   "source": [
    "### Connecting to Braket\n",
    "\n",
    "Now that you've understood the basic workflow of using the Braket SDK you are ready to start submitting your own tasks to Aquila for real. Before heading over to the [full Braket documentation page](https://docs.aws.amazon.com/braket/latest/developerguide/what-is-braket.html), here's an outline of the five most important steps you will be taken through there:\n",
    "\n",
    "1. [Create an AWS account](https://aws.amazon.com/free/?all-free-tier.sort-by=item.additionalFields.SortRank&all-free-tier.sort-order=asc&awsf.Free%20Tier%20Types=*all&awsf.Free%20Tier%20Categories=*all) for free.\n",
    "2. [Open the Braket console](https://signin.aws.amazon.com/signin?redirect_uri=https%3A%2F%2Fus-east-1.console.aws.amazon.com%2Fbraket%3FhashArgs%3D%2523%26isauthcode%3Dtrue%26region%3Dus-east-1%26state%3DhashArgsFromTB_us-east-1_20274c425666f960&client_id=arn%3Aaws%3Asignin%3A%3A%3Aconsole%2Faqx&forceMobileApp=0&code_challenge=9RCx9puSjDUb1ybh7QD_6ISdRhdFrgRQzISNvKb5oDA&code_challenge_method=SHA-256).\n",
    "3. Head to the Permissions & Settings subpage to [enable Braket](https://docs.aws.amazon.com/braket/latest/developerguide/braket-enable-overview.html). \n",
    "4. Stay on the Permissions & Settings subpage to [enable third-party devices](https://docs.aws.amazon.com/braket/latest/developerguide/braket-enable-third-party.html) (such as QuEra's Aquila).\n",
    "5. Get started on [your first notebook](https://docs.aws.amazon.com/braket/latest/developerguide/braket-get-started-create-notebook.html!)! (All the code above is also available as one complete notebook in QuEra's public GitHub repository [here](https://github.com/QuEraComputing/braket-end-to-end-examples/blob/main/prototyping/HelloBraket_OrderedPhases.ipynb). You can copy-paste the url into an AWS notebook instance if you want to try the code out for real!)\n",
    "\n",
    "Aquila is at your fingertips!"
   ]
  },
  {
   "attachments": {},
   "cell_type": "markdown",
   "metadata": {},
   "source": []
  }
 ],
 "metadata": {
  "kernelspec": {
   "display_name": "Python 3 (ipykernel)",
   "language": "python",
   "name": "python3"
  },
  "language_info": {
   "codemirror_mode": {
    "name": "ipython",
    "version": 3
   },
   "file_extension": ".py",
   "mimetype": "text/x-python",
   "name": "python",
   "nbconvert_exporter": "python",
   "pygments_lexer": "ipython3",
   "version": "3.11.3"
  },
  "vscode": {
   "interpreter": {
    "hash": "b0fa6594d8f4cbf19f97940f81e996739fb7646882a419484c72d19e05852a7e"
   }
  }
 },
 "nbformat": 4,
 "nbformat_minor": 4
}
